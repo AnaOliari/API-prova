{
  "nbformat": 4,
  "nbformat_minor": 0,
  "metadata": {
    "colab": {
      "provenance": [],
      "authorship_tag": "ABX9TyPZkxx5HkS8EfhqRblDnkAb",
      "include_colab_link": true
    },
    "kernelspec": {
      "name": "python3",
      "display_name": "Python 3"
    },
    "language_info": {
      "name": "python"
    }
  },
  "cells": [
    {
      "cell_type": "markdown",
      "metadata": {
        "id": "view-in-github",
        "colab_type": "text"
      },
      "source": [
        "<a href=\"https://colab.research.google.com/github/AnaOliari/API-prova/blob/main/DataScience.ipynb\" target=\"_parent\"><img src=\"https://colab.research.google.com/assets/colab-badge.svg\" alt=\"Open In Colab\"/></a>"
      ]
    },
    {
      "cell_type": "code",
      "execution_count": null,
      "metadata": {
        "id": "Ros8ff47i7I7"
      },
      "outputs": [],
      "source": [
        "from google.colab import files\n",
        "\n",
        "\n",
        "uploaded = files.upload()"
      ]
    },
    {
      "cell_type": "code",
      "source": [
        "import pandas as pd\n",
        "import pandas as pd\n",
        "import io\n",
        "\n",
        "df = pd.read_excel(io.BytesIO(uploaded['Lista NPS Positivo_V4.xlsx']))\n",
        "print(df)"
      ],
      "metadata": {
        "id": "Rv5ccFbAjIQp"
      },
      "execution_count": null,
      "outputs": []
    },
    {
      "cell_type": "markdown",
      "source": [
        "QUESTÃO 1\n",
        "\n",
        "1- Utilizando a base inteira, calcule o target principal, formando uma nova coluna na base, onde a variável nota será analisada em cada linha: a. Notas 9 ou 10 : a coluna target irá conter a classe “promotor”. No total a coluna deve conter 18.251 promotores, sendo essa a classe majoritária. b. Notas 8 ou 7: a coluna target irá conter a classe “neutro”. No total a coluna deve conter 4.738 neutros. c. Notas < 7: a coluna target irá conter a classe “detrator”. No total a coluna deve conter 2.185 detratores, sendo essa a classe minoritária. d. Executar o comando df.groupby(“target”).count() e verificar se as contagens do target batem com a descrição dos itens a, b e c."
      ],
      "metadata": {
        "id": "KirZG1sqjQio"
      }
    },
    {
      "cell_type": "code",
      "source": [
        "import pandas as pd\n",
        "#Função para calcular o target, separando o que é promotor, neutro e detrator\n",
        "def calcular_target(nota):\n",
        "  if nota in (9, 10):\n",
        "    return \"promotor\"\n",
        "  elif nota in (7, 8):\n",
        "    return \"neutro\"\n",
        "  elif nota < 7:\n",
        "    return \"detrator\"\n",
        "  else:\n",
        "    return None  # Trata casos de notas inválidas, se houver\n",
        "\n",
        "# Aplicando a função para criar a coluna 'target'\n",
        "df['target'] = df['nota'].apply(calcular_target)"
      ],
      "metadata": {
        "id": "fFCdr6NLjXSf"
      },
      "execution_count": null,
      "outputs": []
    },
    {
      "cell_type": "code",
      "source": [
        "contagem_Classes = df.groupby('target').count()\n",
        "print(contagem_Classes)"
      ],
      "metadata": {
        "id": "2ycatl5mjeIH"
      },
      "execution_count": null,
      "outputs": []
    },
    {
      "cell_type": "code",
      "source": [
        "df.groupby(\"target\").count()"
      ],
      "metadata": {
        "id": "--1kOZc5jg3f"
      },
      "execution_count": null,
      "outputs": []
    },
    {
      "cell_type": "markdown",
      "source": [
        "QUESTÃO 2\n",
        "\n",
        "2- Localizar a variável “mercado” e filtrar para reter apenas instâncias que são do brasil, para isso você pode utilizar um comando como:\n",
        "df = df.loc[df[”mercado”] ==”brasil”]."
      ],
      "metadata": {
        "id": "rvTQC53gjjXg"
      }
    },
    {
      "cell_type": "code",
      "source": [
        "# Verificar a presença da coluna 'mercado' e filtrar os registros para 'BRASIL'\n",
        "if 'mercado' in df.columns:\n",
        "    df_brasil = df[df['mercado'].str.upper() == 'BRASIL']\n",
        "    total_brasil = len(df_brasil)\n",
        "else:\n",
        "    total_brasil = \"A coluna 'mercado' não está presente no DataFrame.\"\n",
        "\n",
        "total_brasil"
      ],
      "metadata": {
        "id": "zjt9wGyWjkDR"
      },
      "execution_count": null,
      "outputs": []
    },
    {
      "cell_type": "markdown",
      "source": [
        "QUESTÃO 3\n",
        "\n",
        "3- Assim como no item 2, executar um comando de filtragem para trabalhar com o grupo que a sua equipe ficou encarregada. O nome da variável a ser filtrada é “Grupo de Produto”, exemplo : df = df.loc[df[”Grupo de Produto”] == “Grupo x”], onde x é o número de seu grupo."
      ],
      "metadata": {
        "id": "oiBRQnPEjneY"
      }
    },
    {
      "cell_type": "code",
      "source": [
        "# Verificar a presença da coluna 'Grupo de Produto' e filtrar para o Grupo 4\n",
        "if 'Grupo de Produto' in df_brasil.columns:\n",
        "    grupo4_df = df_brasil[df_brasil['Grupo de Produto'] == 'Grupo 4']\n",
        "    total_grupo4 = len(grupo4_df)\n",
        "else:\n",
        "    total_grupo4 = \"A coluna 'Grupo de Produto' não está presente no DataFrame.\"\n",
        "\n",
        "total_grupo4"
      ],
      "metadata": {
        "id": "cmdWWUWHjoKo"
      },
      "execution_count": null,
      "outputs": []
    },
    {
      "cell_type": "markdown",
      "source": [
        "QUESTÃO 4\n",
        "\n",
        "4- Fazer a volumetria de target, calculando para o seu grupo quantos promotores, neutros e detratores ficaram na base, calcular também o percentual de cada classe."
      ],
      "metadata": {
        "id": "VGjKd8upjxyQ"
      }
    },
    {
      "cell_type": "code",
      "source": [
        "# Calcular a volumetria e o percentual dos targets no Grupo 4\n",
        "volumetria_grupo4 = grupo4_df['target'].value_counts()\n",
        "percentual_grupo4 = (volumetria_grupo4 / volumetria_grupo4.sum()) * 100\n",
        "\n",
        "volumetria_grupo4, percentual_grupo4"
      ],
      "metadata": {
        "id": "VUfdeMSwjydY"
      },
      "execution_count": null,
      "outputs": []
    },
    {
      "cell_type": "markdown",
      "source": [
        "QUESTÃO 5\n",
        "\n",
        "5- Criar uma coluna chamada região, que irá corresponder as 5 regiões do país, baseado na informação da coluna “estado”. Ex: se o estado for Paraná, Santa Catarina ou Rio grande do Sul, a coluna região deve conter a string “sul”."
      ],
      "metadata": {
        "id": "iVIEdB5Uj1sA"
      }
    },
    {
      "cell_type": "code",
      "source": [
        "# Mapeamento das regiões brasileiras\n",
        "regioes = {\n",
        "    'Norte': ['AC', 'AP', 'AM', 'PA', 'RO', 'RR', 'TO'],\n",
        "    'Nordeste': ['AL', 'BA', 'CE', 'MA', 'PB', 'PE', 'PI', 'RN', 'SE'],\n",
        "    'Centro-Oeste': ['DF', 'GO', 'MT', 'MS'],\n",
        "    'Sudeste': ['ES', 'MG', 'RJ', 'SP'],\n",
        "    'Sul': ['PR', 'RS', 'SC']\n",
        "}\n",
        "\n",
        "# Função para atribuir a região com base no estado\n",
        "def atribuir_regiao(estado):\n",
        "    for regiao, estados in regioes.items():\n",
        "        if estado in estados:\n",
        "            return regiao\n",
        "    return None  # Caso o estado não seja encontrado no mapeamento\n",
        "\n",
        "# Criar a coluna 'região' no DataFrame do Grupo 4\n",
        "if 'estado' in grupo4_df.columns:\n",
        "    grupo4_df['região'] = grupo4_df['estado'].apply(atribuir_regiao)\n",
        "    regioes_distribuicao = grupo4_df['região'].value_counts()\n",
        "else:\n",
        "    regioes_distribuicao = \"A coluna 'estado' não está presente no DataFrame.\"\n",
        "\n",
        "regioes_distribuicao"
      ],
      "metadata": {
        "id": "uqWQfG-nj2FZ"
      },
      "execution_count": null,
      "outputs": []
    },
    {
      "cell_type": "markdown",
      "source": [
        "QUESTÃO 6\n",
        "\n",
        "6- Criar uma coluna chamada safra, baseada na variável “data_resposta”, capturando apenas o ano da resposta."
      ],
      "metadata": {
        "id": "_EGUur-lkLLX"
      }
    },
    {
      "cell_type": "code",
      "source": [
        "# Converter 'data_resposta' para datetime e criar a coluna 'safra'\n",
        "if 'data_resposta' in grupo4_df.columns:\n",
        "    grupo4_df['data_resposta'] = pd.to_datetime(grupo4_df['data_resposta'], errors='coerce')\n",
        "    grupo4_df['safra'] = grupo4_df['data_resposta'].dt.year\n",
        "    safra_distribuicao = grupo4_df['safra'].value_counts()\n",
        "else:\n",
        "    safra_distribuicao = \"A coluna 'data_resposta' não está presente no DataFrame.\"\n",
        "\n",
        "safra_distribuicao"
      ],
      "metadata": {
        "id": "kS7uVadckOM4"
      },
      "execution_count": null,
      "outputs": []
    },
    {
      "cell_type": "markdown",
      "source": [
        "QUESTÃO 7 PARTE 1\n",
        "\n",
        "7- Calcular a volumetria do target Safrada (pelo ano) para a base total (sempre filtrada para o seu grupo), fazer a mesma volumetria para cada região do país e para cada um dos quatro períodos de pesquisa baseado na coluna “Período de Pesquisa”. A volumetria deve ser calculada em valores absolutos e percentuais. Além do cálculo safrado, a volumetria deve somar todas as safras no final. Fazer verificações se o total é coerente com a contagem obtida diretamente da base."
      ],
      "metadata": {
        "id": "KWai3lAukS1Q"
      }
    },
    {
      "cell_type": "code",
      "source": [
        "# Função para calcular a volumetria por safra\n",
        "def calcular_volumetria_safra(dataframe, coluna_safra='safra', coluna_target='target'):\n",
        "    safra_volumetria = dataframe.groupby(coluna_safra)[coluna_target].value_counts().unstack(fill_value=0)\n",
        "    safra_volumetria['Total'] = safra_volumetria.sum(axis=1)\n",
        "    safra_volumetria['%Promotores'] = (safra_volumetria.get('promotor', 0) / safra_volumetria['Total']) * 100\n",
        "    safra_volumetria['%Neutros'] = (safra_volumetria.get('neutro', 0) / safra_volumetria['Total']) * 100\n",
        "    safra_volumetria['%Detratores'] = (safra_volumetria.get('detrator', 0) / safra_volumetria['Total']) * 100\n",
        "    safra_volumetria.loc['Total'] = safra_volumetria.sum()  # Somar todas as safras\n",
        "    safra_volumetria.loc['Total', '%Promotores'] = (safra_volumetria.loc['Total', 'promotor'] / safra_volumetria.loc['Total', 'Total']) * 100\n",
        "    safra_volumetria.loc['Total', '%Neutros'] = (safra_volumetria.loc['Total', 'neutro'] / safra_volumetria.loc['Total', 'Total']) * 100\n",
        "    safra_volumetria.loc['Total', '%Detratores'] = (safra_volumetria.loc['Total', 'detrator'] / safra_volumetria.loc['Total', 'Total']) * 100\n",
        "    return safra_volumetria\n",
        "\n",
        "# Calcular a volumetria para a base total por safra\n",
        "volumetria_total_safra = calcular_volumetria_safra(grupo4_df)\n",
        "\n",
        "# Exibir a tabela de volumetria diretamente no ambiente Google Colab\n",
        "volumetria_total_safra"
      ],
      "metadata": {
        "id": "Mdm8HPmxkTgw"
      },
      "execution_count": null,
      "outputs": []
    },
    {
      "cell_type": "markdown",
      "source": [
        "QUESTÃO 7 PARTE 2\n",
        "\n",
        "7 Após o cálculo das volumetrias, inferir se existe diferença de balanceamento entre as classes, fazer isso para as safras e para o total, indicando no relatório a classe majoritária e a classe minoritária. Também indicar no relatório se alguma safra apresenta uma volumetria muito diferente comparada com as demais safras. Repetir essa análise fazendo novas tabelas de volumetria para cada filtragem do seu grupo, sendo que no total deve ter: (i) uma tabela de volumetria para Base total, (ii) 5 tabelas de volumetrias para as regiões e (iv) 4 tabelas de volumetrias para os períodos de pesquisas. No total, o relatório deverá conter 10 tabelas de volumetria igual a este exemplo com suas respectivas análises."
      ],
      "metadata": {
        "id": "6uG1KKCKkXJB"
      }
    },
    {
      "cell_type": "code",
      "source": [
        "# Ajustar a função para lidar com categorias ausentes\n",
        "def calcular_volumetria_safra_ajustada(dataframe, coluna_safra='safra', coluna_target='target'):\n",
        "    safra_volumetria = dataframe.groupby(coluna_safra)[coluna_target].value_counts().unstack(fill_value=0)\n",
        "    # Garantir que todas as categorias estão presentes\n",
        "    for categoria in ['promotor', 'neutro', 'detrator']:\n",
        "        if categoria not in safra_volumetria.columns:\n",
        "            safra_volumetria[categoria] = 0\n",
        "\n",
        "    safra_volumetria['Total'] = safra_volumetria.sum(axis=1)\n",
        "    safra_volumetria['%Promotores'] = (safra_volumetria['promotor'] / safra_volumetria['Total']) * 100\n",
        "    safra_volumetria['%Neutros'] = (safra_volumetria['neutro'] / safra_volumetria['Total']) * 100\n",
        "    safra_volumetria['%Detratores'] = (safra_volumetria['detrator'] / safra_volumetria['Total']) * 100\n",
        "\n",
        "    safra_volumetria.loc['Total'] = safra_volumetria.sum()\n",
        "    safra_volumetria.loc['Total', '%Promotores'] = (safra_volumetria.loc['Total', 'promotor'] / safra_volumetria.loc['Total', 'Total']) * 100\n",
        "    safra_volumetria.loc['Total', '%Neutros'] = (safra_volumetria.loc['Total', 'neutro'] / safra_volumetria.loc['Total', 'Total']) * 100\n",
        "    safra_volumetria.loc['Total', '%Detratores'] = (safra_volumetria.loc['Total', 'detrator'] / safra_volumetria.loc['Total', 'Total']) * 100\n",
        "    return safra_volumetria\n",
        "\n",
        "# Recalcular volumetria por região com ajuste\n",
        "def recalcular_volumetria_por_regiao(dataframe, coluna_regiao='região', coluna_safra='safra', coluna_target='target'):\n",
        "    regioes = dataframe[coluna_regiao].unique()\n",
        "    regioes_volumetria = {}\n",
        "    for regiao in regioes:\n",
        "        if pd.notna(regiao):  # Ignorar valores nulos\n",
        "            df_regiao = dataframe[dataframe[coluna_regiao] == regiao]\n",
        "            regioes_volumetria[regiao] = calcular_volumetria_safra_ajustada(df_regiao, coluna_safra, coluna_target)\n",
        "    return regioes_volumetria\n",
        "\n",
        "# Recalcular\n",
        "volumetria_por_regiao_corrigida = recalcular_volumetria_por_regiao(grupo4_df)\n",
        "\n",
        "# Exibir as tabelas de volumetria por região diretamente no console\n",
        "for regiao, tabela in volumetria_por_regiao_corrigida.items():\n",
        "    print(f\"\\nVolumetria Ajustada para a Região {regiao}:\\n\")\n",
        "    print(tabela)"
      ],
      "metadata": {
        "id": "nklE0gvhkXtQ"
      },
      "execution_count": null,
      "outputs": []
    },
    {
      "cell_type": "markdown",
      "source": [
        "QUESTÃO 8\n",
        "\n",
        "8- Filtrar as perguntas pertencentes ao seu grupo. Descartar quaisquer colunas que não sejam necessárias para a continuidade da análise."
      ],
      "metadata": {
        "id": "tKlc6VmUkcsw"
      }
    },
    {
      "cell_type": "code",
      "source": [],
      "metadata": {
        "id": "BHjN9YZgkfng"
      },
      "execution_count": null,
      "outputs": []
    },
    {
      "cell_type": "markdown",
      "source": [
        "QUESTÃO 9\n",
        "\n",
        "9- Em um primeiro momento fazer para o seu grupo a correlação de spearman, entre a variável nota e as demais variáveis de perguntas (contendo a nota de 0 a 10). Ordenar a lista de correlações da maior correlação para a menor, grifando em vermelho as correlações fortes, grifando em azul as correlações médias e grifando em verde as correlações fracas. Fazer isso para o seu grupo inteiro, por região e por período de pesquisa. Apresentar também a lista de correlações Safrada, uma lista por safra, replicando o trabalho para cada região e período de pesquisa."
      ],
      "metadata": {
        "id": "ebW0NGlIkgJg"
      }
    },
    {
      "cell_type": "code",
      "source": [
        "# Filtrar o Grupo 4\n",
        "grupo4_df = df[df['Grupo de Produto'] == 'Grupo 4']\n",
        "\n",
        "# Selecionar colunas relevantes para análise de correlação\n",
        "colunas_escaladas = [col for col in grupo4_df.columns if grupo4_df[col].dtype in ['float64', 'int64'] and col != 'nota']\n",
        "\n",
        "# Preparar DataFrame para correlação\n",
        "grupo4_corr_df = grupo4_df[['nota'] + colunas_escaladas]\n",
        "\n",
        "# Calcular a correlação de Spearman\n",
        "spearman_corr = grupo4_corr_df.corr(method='spearman')\n",
        "\n",
        "# Ordenar as correlações da maior para a menor em relação à 'nota'\n",
        "spearman_corr_sorted = spearman_corr['nota'].drop('nota').sort_values(ascending=False)\n",
        "\n",
        "# Destacar as correlações com cores conforme os critérios\n",
        "def destacar_correlacao(valor):\n",
        "    if abs(valor) >= 0.7:\n",
        "        return f\"🔴 {valor:.3f}\"  # Vermelho (forte)\n",
        "    elif 0.4 <= abs(valor) < 0.7:\n",
        "        return f\"🔵 {valor:.3f}\"  # Azul (média)\n",
        "    else:\n",
        "        return f\"🟢 {valor:.3f}\"  # Verde (fraca)\n",
        "\n",
        "# Aplicar destaque\n",
        "spearman_corr_destacada = spearman_corr_sorted.apply(destacar_correlacao)\n",
        "\n",
        "# Exibir as correlações destacadas\n",
        "spearman_corr_destacada\n"
      ],
      "metadata": {
        "id": "FyyiWJL9kkP5"
      },
      "execution_count": null,
      "outputs": []
    },
    {
      "cell_type": "markdown",
      "source": [
        "TESTE DO MODELO PARA VER PELA CURVA SE O MODELO ESTA BOM OU RUIM"
      ],
      "metadata": {
        "id": "ofvRR25VkoCQ"
      }
    },
    {
      "cell_type": "code",
      "source": [
        "# Recriar as colunas necessárias para os targets binários\n",
        "grupo4_df['target'] = grupo4_df['nota'].apply(calcular_target)\n",
        "\n",
        "# Criar os targets binários novamente\n",
        "grupo4_df['target_detrator'] = (grupo4_df['target'] == 'detrator').astype(int)\n",
        "grupo4_df['target_neutro'] = (grupo4_df['target'] == 'neutro').astype(int)\n",
        "\n",
        "# Confirmar a criação das colunas\n",
        "grupo4_df[['target', 'target_detrator', 'target_neutro']].head()\n"
      ],
      "metadata": {
        "id": "u-TCE8vmkpwQ"
      },
      "execution_count": null,
      "outputs": []
    },
    {
      "cell_type": "code",
      "source": [
        "# Repetir o processo de treinamento com os dados corrigidos\n",
        "# Import necessary libraries\n",
        "from sklearn.model_selection import train_test_split\n",
        "from sklearn.ensemble import RandomForestClassifier\n",
        "from sklearn.metrics import classification_report, roc_auc_score\n",
        "\n",
        "\n",
        "# Assuming 'colunas_escaladas' from your previous code contains the features\n",
        "X_cleaned = grupo4_df[colunas_escaladas]  # Define X_cleaned using your feature columns\n",
        "\n",
        "# Dados para o modelo de Detratores\n",
        "y_detrator = grupo4_df['target_detrator']\n",
        "X_train_detrator, X_test_detrator, y_train_detrator, y_test_detrator = train_test_split(X_cleaned, y_detrator, test_size=0.2, random_state=42)\n",
        "\n",
        "# Dados para o modelo de Neutros\n",
        "y_neutro = grupo4_df['target_neutro']\n",
        "X_train_neutro, X_test_neutro, y_train_neutro, y_test_neutro = train_test_split(X_cleaned, y_neutro, test_size=0.2, random_state=42)\n",
        "\n",
        "# Treinar os modelos\n",
        "rf_detrator = RandomForestClassifier(random_state=42)\n",
        "rf_detrator.fit(X_train_detrator, y_train_detrator)\n",
        "\n",
        "rf_neutro = RandomForestClassifier(random_state=42)\n",
        "rf_neutro.fit(X_train_neutro, y_train_neutro)\n",
        "\n",
        "# Fazer previsões\n",
        "y_pred_detrator = rf_detrator.predict(X_test_detrator)\n",
        "y_pred_neutro = rf_neutro.predict(X_test_neutro)\n",
        "\n",
        "# Avaliar os modelos\n",
        "report_detrator = classification_report(y_test_detrator, y_pred_detrator, output_dict=True)\n",
        "report_neutro = classification_report(y_test_neutro, y_pred_neutro, output_dict=True)\n",
        "\n",
        "# AUC-ROC para ambos\n",
        "roc_auc_detrator = roc_auc_score(y_test_detrator, rf_detrator.predict_proba(X_test_detrator)[:, 1])\n",
        "roc_auc_neutro = roc_auc_score(y_test_neutro, rf_neutro.predict_proba(X_test_neutro)[:, 1])\n",
        "\n",
        "# Consolidar resultados\n",
        "results_final_cleaned_models = {\n",
        "    \"Modelo Detrator\": {\n",
        "        \"AUC-ROC\": roc_auc_detrator,\n",
        "        \"Relatório de Classificação\": report_detrator,\n",
        "    },\n",
        "    \"Modelo Neutro\": {\n",
        "        \"AUC-ROC\": roc_auc_neutro,\n",
        "        \"Relatório de Classificação\": report_neutro,\n",
        "    },\n",
        "}\n",
        "\n",
        "results_final_cleaned_models"
      ],
      "metadata": {
        "id": "nwii60MwksY4"
      },
      "execution_count": null,
      "outputs": []
    },
    {
      "cell_type": "markdown",
      "source": [
        "QUESTÃO 10\n",
        "\n",
        "10- Faça 2 modelos de classificação binária por análise (um para neutro e outro para detrator). Para isso, use apenas as variáveis numéricas (perguntas) como variáveis de entrada (X) e treine o modelo com um novo target, reduzindo o target de 3 classes para 2 classes, transformando o problema multi-classe e um problema de classificação binária (exemplo 1: modelo de detratores, positivar caso detrator e negativar caso neutro ou promotor) (y) (exemplo 2: modelo de neutros, positivar caso neutro e negativar caso detrator ou promotor) (y). Importante!! Ao criar o target binário, não utilize no espaço de características do modelo (X) o target de 3 classes como entrada, nem a variável nota, pois ambas são consideradas vazamento neste contexto (pois derivam o target). Sendo assim, para cada modelo, o X (espaço de características) deve conter todas as colunas de perguntas, menos a variável nota e o y (target) deve conter apenas o target binário adaptado."
      ],
      "metadata": {
        "id": "9az7P55Jkvkg"
      }
    },
    {
      "cell_type": "code",
      "source": [],
      "metadata": {
        "id": "xuQfYPiHkxsI"
      },
      "execution_count": null,
      "outputs": []
    },
    {
      "cell_type": "markdown",
      "source": [
        "QUESTÃO 11\n",
        "\n",
        "11- No total devem ser feitos 20 modelos: um modelo detrator e um modelo neutro para a base inteira filtrada pelo seu grupo, repetindo a análise por: região e período de pesquisa. Não precisa fazer modelos safrados!"
      ],
      "metadata": {
        "id": "f37_E2eikx1Q"
      }
    },
    {
      "cell_type": "code",
      "source": [],
      "metadata": {
        "id": "w6d9939rkyTw"
      },
      "execution_count": null,
      "outputs": []
    },
    {
      "cell_type": "markdown",
      "source": [
        "QUESTÃO 12\n",
        "\n",
        "12- Colocar no relatório as top 10 variáveis de cada modelo, para isso use um modelo como RandomForest ou XGbooost. Tirar as conclusões sobre top variáveis, podendo comparar esta análise com a lista de correlações."
      ],
      "metadata": {
        "id": "4nNCKSuDk0Sg"
      }
    },
    {
      "cell_type": "code",
      "source": [],
      "metadata": {
        "id": "0cRwmd8tk0oQ"
      },
      "execution_count": null,
      "outputs": []
    },
    {
      "cell_type": "markdown",
      "source": [
        "QUESTÃO 13\n",
        "\n",
        "13- Tentar avaliar as 5 top-variáveis de cada modelo com uma das técnica de gráfico, podendo ser PDP, ALE ou SHAP. A explicação de como fazer estes gráficos será fornecida nas próximas aulas, antes da avaliação."
      ],
      "metadata": {
        "id": "orKYF1u0k25Q"
      }
    },
    {
      "cell_type": "code",
      "source": [],
      "metadata": {
        "id": "QqLglLTuk3YA"
      },
      "execution_count": null,
      "outputs": []
    }
  ]
}